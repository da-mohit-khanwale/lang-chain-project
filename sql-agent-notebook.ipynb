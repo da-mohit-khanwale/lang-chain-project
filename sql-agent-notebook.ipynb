{
 "cells": [
  {
   "cell_type": "markdown",
   "metadata": {
    "id": "arlX8FeMtabc"
   },
   "source": [
    "# SQLDatabaseChain Tutorial by Bhavesh🦜\n",
    "[**Link to my YouTube Channel**](https://www.youtube.com/BhaveshBhatt8791?sub_confirmation=1)"
   ]
  },
  {
   "cell_type": "code",
   "execution_count": 2,
   "metadata": {},
   "outputs": [
    {
     "data": {
      "text/plain": [
       "redshift+redshift_connector://awsuser:***@<clusterid>.xxxxxx.<aws-region>.redshift.amazonaws.com:5439/dev"
      ]
     },
     "execution_count": 2,
     "metadata": {},
     "output_type": "execute_result"
    }
   ],
   "source": []
  },
  {
   "cell_type": "markdown",
   "metadata": {
    "id": "SodUZXmugnZA"
   },
   "source": [
    "## Installs"
   ]
  },
  {
   "cell_type": "code",
   "execution_count": null,
   "metadata": {
    "id": "T7tOFd1ttabd"
   },
   "outputs": [],
   "source": [
    "%%capture\n",
    "!pip install -q langchain\n",
    "!pip install -q openai"
   ]
  },
  {
   "cell_type": "markdown",
   "metadata": {
    "id": "hj2WQa9whw7B"
   },
   "source": [
    "# Secret Key"
   ]
  },
  {
   "cell_type": "code",
   "execution_count": null,
   "metadata": {
    "id": "3uuYhNQXfdmY"
   },
   "outputs": [],
   "source": [
    "import os\n",
    "os.environ['OPENAI_API_KEY'] = 'sk-'"
   ]
  },
  {
   "cell_type": "markdown",
   "metadata": {
    "id": "tvLjsm1Bjxu9"
   },
   "source": [
    "# Converting Pandas to SQL Db"
   ]
  },
  {
   "cell_type": "code",
   "execution_count": null,
   "metadata": {
    "id": "qa8gKNDgfyk_"
   },
   "outputs": [],
   "source": [
    "# import numpy as np\n",
    "# import pandas as pd\n",
    "# import sqlite3\n",
    "\n",
    "# df = pd.read_csv(\"data.csv\")\n",
    "\n",
    "# df.rename(columns={'User ID': 'user_id',\n",
    "#                    'Product ID': 'product_id',\n",
    "#                    'Product Name' : 'product_name',\n",
    "#                    'Brand' : 'brand',\n",
    "#                    'Category' : 'category',\n",
    "#                    'Price' : 'price',\n",
    "#                    'Color' : 'color',\n",
    "#                    'Size' : 'size'}, inplace=True)\n",
    "\n",
    "# conn = sqlite3.connect('fashion_db.sqlite')\n",
    "# c = conn.cursor()\n",
    "\n",
    "# c.execute('CREATE TABLE IF NOT EXISTS fashion_products (user_id int, product_id int, product_name text, brand text, category text, price int, rating float, color text, size text)')\n",
    "# conn.commit()\n",
    "\n",
    "# df.to_sql('fashion_products', conn, if_exists='replace', index = False)\n",
    "\n",
    "# c.execute('''\n",
    "# SELECT product_name FROM fashion_products LIMIT 100\n",
    "#           ''')\n",
    "\n",
    "# for row in c.fetchall():\n",
    "#     print (row)"
   ]
  },
  {
   "cell_type": "markdown",
   "metadata": {
    "id": "urDjpvWtj404"
   },
   "source": [
    "# Reading the DB"
   ]
  },
  {
   "cell_type": "code",
   "execution_count": null,
   "metadata": {
    "id": "dG96BwyVfyEx"
   },
   "outputs": [],
   "source": [
    "def read_sql_query(sql, db):\n",
    "    conn = sqlite3.connect(db)\n",
    "    cur = conn.cursor()\n",
    "    cur.execute(sql)\n",
    "    rows = cur.fetchall()\n",
    "    for row in rows:\n",
    "        print(row)\n",
    "    conn.close()"
   ]
  },
  {
   "cell_type": "code",
   "execution_count": null,
   "metadata": {
    "colab": {
     "base_uri": "https://localhost:8080/"
    },
    "id": "P17T9MwgiFCL",
    "outputId": "1e27a2ab-47c2-4948-fd3e-4a923ea496b1"
   },
   "outputs": [
    {
     "name": "stdout",
     "output_type": "stream",
     "text": [
      "(19, 1, 'Dress', 'Adidas', \"Men's Fashion\", 40, 1.0431592108361825, 'Black', 'XL')\n",
      "(97, 2, 'Shoes', 'H&M', \"Women's Fashion\", 82, 4.026416271141911, 'Black', 'L')\n",
      "(25, 3, 'Dress', 'Adidas', \"Women's Fashion\", 44, 3.337937559377053, 'Yellow', 'XL')\n",
      "(57, 4, 'Shoes', 'Zara', \"Men's Fashion\", 23, 1.0495229563128543, 'White', 'S')\n",
      "(79, 5, 'T-shirt', 'Adidas', \"Men's Fashion\", 79, 4.302773408398684, 'Black', 'M')\n",
      "(98, 6, 'Dress', 'Adidas', \"Men's Fashion\", 47, 1.3795657395330458, 'Yellow', 'L')\n",
      "(16, 7, 'Jeans', 'Gucci', \"Men's Fashion\", 37, 1.3567503746842564, 'White', 'XL')\n",
      "(63, 8, 'Sweater', 'Zara', \"Kids' Fashion\", 64, 4.36030328941572, 'Blue', 'XL')\n",
      "(96, 9, 'Sweater', 'H&M', \"Men's Fashion\", 53, 4.466181876278437, 'Green', 'XL')\n",
      "(36, 10, 'T-shirt', 'Zara', \"Kids' Fashion\", 55, 4.093234402033421, 'White', 'XL')\n"
     ]
    }
   ],
   "source": [
    "import sqlite3\n",
    "read_sql_query('SELECT * FROM fashion_products LIMIT 10;',\n",
    "               \"fashion_db.sqlite\")"
   ]
  },
  {
   "cell_type": "markdown",
   "metadata": {
    "id": "nBztCNQakElE"
   },
   "source": [
    "# Langchain SQL Agent"
   ]
  },
  {
   "cell_type": "code",
   "execution_count": null,
   "metadata": {
    "id": "c-iId_loiFEg"
   },
   "outputs": [],
   "source": [
    "from langchain import OpenAI, SQLDatabase, SQLDatabaseChain"
   ]
  },
  {
   "cell_type": "code",
   "execution_count": null,
   "metadata": {
    "id": "g1QeyHrvil6Z"
   },
   "outputs": [],
   "source": [
    "input_db = SQLDatabase.from_uri('sqlite:///fashion_db.sqlite')\n",
    "llm_1 = OpenAI(temperature=0)"
   ]
  },
  {
   "cell_type": "code",
   "execution_count": null,
   "metadata": {
    "colab": {
     "base_uri": "https://localhost:8080/"
    },
    "id": "bwVDUTJ4il8c",
    "outputId": "594676ed-4b99-48a1-b782-8e7765f5d8c5"
   },
   "outputs": [
    {
     "name": "stderr",
     "output_type": "stream",
     "text": [
      "/usr/local/lib/python3.10/dist-packages/langchain/chains/sql_database/base.py:63: UserWarning: Directly instantiating an SQLDatabaseChain with an llm is deprecated. Please instantiate with llm_chain argument or using the from_llm class method.\n",
      "  warnings.warn(\n"
     ]
    }
   ],
   "source": [
    "db_agent = SQLDatabaseChain(llm = llm_1,\n",
    "                            database = input_db,\n",
    "                            verbose=True)"
   ]
  },
  {
   "cell_type": "markdown",
   "metadata": {
    "id": "xjMuQkB8BnFF"
   },
   "source": [
    "# Question 1"
   ]
  },
  {
   "cell_type": "code",
   "execution_count": null,
   "metadata": {
    "colab": {
     "base_uri": "https://localhost:8080/",
     "height": 174
    },
    "id": "RDovCG0Eil_W",
    "outputId": "ba565125-63d1-4c11-e6e0-c4d702909880"
   },
   "outputs": [
    {
     "name": "stdout",
     "output_type": "stream",
     "text": [
      "\n",
      "\n",
      "\u001b[1m> Entering new  chain...\u001b[0m\n",
      "how many rows are there?\n",
      "SQLQuery:\u001b[32;1m\u001b[1;3mSELECT COUNT(*) FROM fashion_products;\u001b[0m\n",
      "SQLResult: \u001b[33;1m\u001b[1;3m[(1000,)]\u001b[0m\n",
      "Answer:\u001b[32;1m\u001b[1;3mThere are 1000 rows in the fashion_products table.\u001b[0m\n",
      "\u001b[1m> Finished chain.\u001b[0m\n"
     ]
    },
    {
     "data": {
      "application/vnd.google.colaboratory.intrinsic+json": {
       "type": "string"
      },
      "text/plain": [
       "'There are 1000 rows in the fashion_products table.'"
      ]
     },
     "execution_count": 9,
     "metadata": {},
     "output_type": "execute_result"
    }
   ],
   "source": [
    "db_agent.run(\"how many rows are there?\")"
   ]
  },
  {
   "cell_type": "markdown",
   "metadata": {
    "id": "XG61vLA0BozA"
   },
   "source": [
    "# Question 2"
   ]
  },
  {
   "cell_type": "code",
   "execution_count": null,
   "metadata": {
    "colab": {
     "base_uri": "https://localhost:8080/",
     "height": 174
    },
    "id": "q7Wkx6EKiFHG",
    "outputId": "91049420-6107-45c2-a9c2-11f796094fab"
   },
   "outputs": [
    {
     "name": "stdout",
     "output_type": "stream",
     "text": [
      "\n",
      "\n",
      "\u001b[1m> Entering new  chain...\u001b[0m\n",
      "how many entries of Adidas are present?\n",
      "SQLQuery:\u001b[32;1m\u001b[1;3mSELECT COUNT(*) FROM fashion_products WHERE brand = 'Adidas';\u001b[0m\n",
      "SQLResult: \u001b[33;1m\u001b[1;3m[(198,)]\u001b[0m\n",
      "Answer:\u001b[32;1m\u001b[1;3mThere are 198 entries of Adidas.\u001b[0m\n",
      "\u001b[1m> Finished chain.\u001b[0m\n"
     ]
    },
    {
     "data": {
      "application/vnd.google.colaboratory.intrinsic+json": {
       "type": "string"
      },
      "text/plain": [
       "'There are 198 entries of Adidas.'"
      ]
     },
     "execution_count": 10,
     "metadata": {},
     "output_type": "execute_result"
    }
   ],
   "source": [
    "db_agent.run(\"how many entries of Adidas are present?\")"
   ]
  },
  {
   "cell_type": "markdown",
   "metadata": {
    "id": "GN4P3XzJBsgD"
   },
   "source": [
    "# Question 3"
   ]
  },
  {
   "cell_type": "code",
   "execution_count": null,
   "metadata": {
    "colab": {
     "base_uri": "https://localhost:8080/",
     "height": 194
    },
    "id": "nADLtzRGjJE8",
    "outputId": "080f0fb4-800e-4edd-8640-c31fbc56946b"
   },
   "outputs": [
    {
     "name": "stdout",
     "output_type": "stream",
     "text": [
      "\n",
      "\n",
      "\u001b[1m> Entering new  chain...\u001b[0m\n",
      "how many XL products of Nike are there that have a rating of more than 4?\n",
      "SQLQuery:\u001b[32;1m\u001b[1;3mSELECT COUNT(*) FROM fashion_products WHERE brand = 'Nike' AND size = 'XL' AND \"Rating\" > 4 LIMIT 5;\u001b[0m\n",
      "SQLResult: \u001b[33;1m\u001b[1;3m[(12,)]\u001b[0m\n",
      "Answer:\u001b[32;1m\u001b[1;3mThere are 12 XL products of Nike that have a rating of more than 4.\u001b[0m\n",
      "\u001b[1m> Finished chain.\u001b[0m\n"
     ]
    },
    {
     "data": {
      "application/vnd.google.colaboratory.intrinsic+json": {
       "type": "string"
      },
      "text/plain": [
       "'There are 12 XL products of Nike that have a rating of more than 4.'"
      ]
     },
     "execution_count": 11,
     "metadata": {},
     "output_type": "execute_result"
    }
   ],
   "source": [
    "db_agent.run(\"how many XL products of Nike are there that have a rating of more than 4?\")"
   ]
  },
  {
   "cell_type": "markdown",
   "metadata": {
    "id": "7l289EzUBuOD"
   },
   "source": [
    "# Question 4"
   ]
  },
  {
   "cell_type": "code",
   "execution_count": null,
   "metadata": {
    "colab": {
     "base_uri": "https://localhost:8080/",
     "height": 194
    },
    "id": "byC6friejJHt",
    "outputId": "14b59b06-3fc8-43d8-d541-ba56911eaa55"
   },
   "outputs": [
    {
     "name": "stdout",
     "output_type": "stream",
     "text": [
      "\n",
      "\n",
      "\u001b[1m> Entering new  chain...\u001b[0m\n",
      "Give all the details of Adidas which have a size of L and have a rating of more than 4.2\n",
      "SQLQuery:\u001b[32;1m\u001b[1;3mSELECT * FROM fashion_products WHERE brand = 'Adidas' AND size = 'L' AND \"Rating\" > 4.2;\u001b[0m\n",
      "SQLResult: \u001b[33;1m\u001b[1;3m[(100, 166, 'Sweater', 'Adidas', \"Kids' Fashion\", 96, 4.743823985146882, 'White', 'L'), (95, 327, 'Dress', 'Adidas', \"Kids' Fashion\", 72, 4.572943412760792, 'White', 'L'), (20, 808, 'T-shirt', 'Adidas', \"Women's Fashion\", 26, 4.324805158780109, 'Yellow', 'L'), (37, 928, 'Sweater', 'Adidas', \"Kids' Fashion\", 10, 4.585559724465988, 'Black', 'L')]\u001b[0m\n",
      "Answer:\u001b[32;1m\u001b[1;3mAdidas products with size L and rating more than 4.2 are Sweater, Dress, T-shirt and Sweater.\u001b[0m\n",
      "\u001b[1m> Finished chain.\u001b[0m\n"
     ]
    },
    {
     "data": {
      "application/vnd.google.colaboratory.intrinsic+json": {
       "type": "string"
      },
      "text/plain": [
       "'Adidas products with size L and rating more than 4.2 are Sweater, Dress, T-shirt and Sweater.'"
      ]
     },
     "execution_count": 12,
     "metadata": {},
     "output_type": "execute_result"
    }
   ],
   "source": [
    "db_agent.run(\"Give all the details of Adidas which have a size of L and have a rating of more than 4.2\")"
   ]
  },
  {
   "cell_type": "code",
   "execution_count": null,
   "metadata": {
    "id": "y9eRBcF1jUCz"
   },
   "outputs": [],
   "source": []
  },
  {
   "cell_type": "code",
   "execution_count": null,
   "metadata": {
    "id": "t5yiAlGAjUFF"
   },
   "outputs": [],
   "source": []
  },
  {
   "cell_type": "code",
   "execution_count": null,
   "metadata": {
    "id": "-qhZn0NEjUIi"
   },
   "outputs": [],
   "source": []
  },
  {
   "cell_type": "code",
   "execution_count": null,
   "metadata": {
    "id": "O9oQXbD_iFJa"
   },
   "outputs": [],
   "source": []
  }
 ],
 "metadata": {
  "colab": {
   "collapsed_sections": [
    "XG61vLA0BozA",
    "GN4P3XzJBsgD",
    "7l289EzUBuOD"
   ],
   "provenance": []
  },
  "kernelspec": {
   "display_name": "Python 3 (ipykernel)",
   "language": "python",
   "name": "python3"
  },
  "language_info": {
   "codemirror_mode": {
    "name": "ipython",
    "version": 3
   },
   "file_extension": ".py",
   "mimetype": "text/x-python",
   "name": "python",
   "nbconvert_exporter": "python",
   "pygments_lexer": "ipython3",
   "version": "3.11.5"
  }
 },
 "nbformat": 4,
 "nbformat_minor": 4
}
