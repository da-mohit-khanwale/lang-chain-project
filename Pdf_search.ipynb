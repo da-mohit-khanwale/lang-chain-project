{
 "cells": [
  {
   "cell_type": "markdown",
   "metadata": {
    "id": "fsS9n8RqdjEG"
   },
   "source": []
  },
  {
   "cell_type": "markdown",
   "metadata": {
    "id": "gBtk_tC8zmC1"
   },
   "source": [
    "## PDF Query Using Langchain"
   ]
  },
  {
   "cell_type": "code",
   "execution_count": 3,
   "metadata": {
    "id": "v8fCmC-6Q3pP"
   },
   "outputs": [],
   "source": [
    "from PyPDF2 import PdfReader\n",
    "from langchain.embeddings.openai import OpenAIEmbeddings\n",
    "from langchain.text_splitter import CharacterTextSplitter\n",
    "from langchain.vectorstores import FAISS\n",
    "from keys import openai_api_key, serp_api_key\n"
   ]
  },
  {
   "cell_type": "markdown",
   "metadata": {
    "id": "xP1-3VjZdlf4"
   },
   "source": []
  },
  {
   "cell_type": "code",
   "execution_count": 5,
   "metadata": {
    "id": "_aQ7ps_dRJOq"
   },
   "outputs": [],
   "source": [
    "import os, warnings\n",
    "os.environ[\"SERPAPI_API_KEY\"] = serp_api_key\n",
    "os.environ[\"OPENAI_API_KEY\"] = openai_api_key\n",
    "warnings.filterwarnings(\"ignore\")"
   ]
  },
  {
   "cell_type": "code",
   "execution_count": 6,
   "metadata": {
    "id": "_FA1ZERdRLAM"
   },
   "outputs": [],
   "source": [
    "# provide the path of  pdf file/files.\n",
    "pdfreader = PdfReader('data\\going_beyond_abm_whitepaper.pdf')"
   ]
  },
  {
   "cell_type": "code",
   "execution_count": 7,
   "metadata": {
    "id": "q9AeO9cDRqMj"
   },
   "outputs": [],
   "source": [
    "from typing_extensions import Concatenate\n",
    "# read text from pdf\n",
    "raw_text = ''\n",
    "for i, page in enumerate(pdfreader.pages):\n",
    "    content = page.extract_text()\n",
    "    if content:\n",
    "        raw_text += content"
   ]
  },
  {
   "cell_type": "code",
   "execution_count": 9,
   "metadata": {
    "colab": {
     "base_uri": "https://localhost:8080/",
     "height": 192
    },
    "id": "yGlxUMl-Rsmy",
    "outputId": "e248b48b-ffc3-457e-b1ba-406a41e1f86b"
   },
   "outputs": [
    {
     "data": {
      "text/plain": [
       "'Introduction\\nAccount -based marketing (ABM) has been growing steadily as B2B marketers embrace this valuable technique to \\nproactively reach high-value accounts and buyers. A survey from ITSMA indicated that 73% of companies expect to \\nincrease their ABM budgets in the next year by an average of 21%.1 In a year that has brought on a disruption in the \\neconomic landscape and a likelihood for budgetary cuts, this is a major statement about the value of ABM and its \\nincreasing role in the B2B marketer’s toolset. \\nToday, work and home life are converging due to the pandemic and a greater acceptance of remote work as a \\nbusiness practice. In addition, the same individual attention and personalized approach that people demand from the \\nB2C companies they interact with as consumers is now being demanded from the B2B companies they engage with \\nas business buyers. As we hunker down at home, connecting with business prospects now means reaching them the \\nsame way B2C companies reach consumers. '"
      ]
     },
     "execution_count": 9,
     "metadata": {},
     "output_type": "execute_result"
    }
   ],
   "source": [
    "raw_text[:1000]"
   ]
  },
  {
   "cell_type": "code",
   "execution_count": 10,
   "metadata": {
    "id": "VP6ap_PSRt7s"
   },
   "outputs": [],
   "source": [
    "# We need to split the text using Character Text Split such that it sshould not increse token size\n",
    "text_splitter = CharacterTextSplitter(\n",
    "    separator = \"\\n\",\n",
    "    chunk_size = 800,\n",
    "    chunk_overlap  = 200,\n",
    "    length_function = len,\n",
    ")\n",
    "texts = text_splitter.split_text(raw_text)"
   ]
  },
  {
   "cell_type": "code",
   "execution_count": 11,
   "metadata": {
    "colab": {
     "base_uri": "https://localhost:8080/"
    },
    "id": "i9GLXwH1SVOe",
    "outputId": "4d041f5d-ba38-4821-a19c-c0cdb2f56676"
   },
   "outputs": [
    {
     "data": {
      "text/plain": [
       "55"
      ]
     },
     "execution_count": 11,
     "metadata": {},
     "output_type": "execute_result"
    }
   ],
   "source": [
    "len(texts)"
   ]
  },
  {
   "cell_type": "code",
   "execution_count": 12,
   "metadata": {
    "id": "wqy4vJhrSXUT"
   },
   "outputs": [],
   "source": [
    "# Download embeddings from OpenAI\n",
    "embeddings = OpenAIEmbeddings()"
   ]
  },
  {
   "cell_type": "code",
   "execution_count": 13,
   "metadata": {
    "id": "3igYiWjISjvS"
   },
   "outputs": [],
   "source": [
    "document_search = FAISS.from_texts(texts, embeddings)"
   ]
  },
  {
   "cell_type": "code",
   "execution_count": 14,
   "metadata": {
    "colab": {
     "base_uri": "https://localhost:8080/"
    },
    "id": "6bJpE1qlSlNb",
    "outputId": "2eebaa45-b187-4f57-da0e-625940ae5754"
   },
   "outputs": [
    {
     "data": {
      "text/plain": [
       "<langchain.vectorstores.faiss.FAISS at 0x21d3786c850>"
      ]
     },
     "execution_count": 14,
     "metadata": {},
     "output_type": "execute_result"
    }
   ],
   "source": [
    "document_search\n"
   ]
  },
  {
   "cell_type": "code",
   "execution_count": 15,
   "metadata": {
    "id": "Po-ip1fPSonv"
   },
   "outputs": [],
   "source": [
    "from langchain.chains.question_answering import load_qa_chain\n",
    "from langchain.llms import OpenAI"
   ]
  },
  {
   "cell_type": "code",
   "execution_count": 16,
   "metadata": {
    "id": "iYl2PzKSSqg0"
   },
   "outputs": [],
   "source": [
    "chain = load_qa_chain(OpenAI(), chain_type=\"stuff\")"
   ]
  },
  {
   "cell_type": "code",
   "execution_count": 17,
   "metadata": {
    "colab": {
     "base_uri": "https://localhost:8080/",
     "height": 105
    },
    "id": "GQafhpOz4IsV",
    "outputId": "b05ede70-3d69-40ee-a4af-ba0bd14659b4"
   },
   "outputs": [
    {
     "data": {
      "text/plain": [
       "' ABM is an account-based marketing approach that focuses marketing and sales efforts onto specific key accounts. It is a strategic approach that seeks to find best-fit accounts and turn them into new customers, or grow existing relationships.'"
      ]
     },
     "execution_count": 17,
     "metadata": {},
     "output_type": "execute_result"
    }
   ],
   "source": [
    "query = \"What is ABM?\"\n",
    "docs = document_search.similarity_search(query)\n",
    "chain.run(input_documents=docs, question=query)"
   ]
  },
  {
   "cell_type": "code",
   "execution_count": 18,
   "metadata": {
    "colab": {
     "base_uri": "https://localhost:8080/",
     "height": 53
    },
    "id": "7sjc1Xh2SsTs",
    "outputId": "2c3ef36a-4732-4f54-d704-eda850c292a0"
   },
   "outputs": [
    {
     "data": {
      "text/plain": [
       "' ABM is the wave of the future because it provides a solid foundation for B2B companies and it amplifies the benefits of ABM, such as higher ROI than other marketing approaches, shorter sales cycles, better conversion rates, and more. Additionally, the demand for individual attention and personalized approach from B2B companies is increasing.'"
      ]
     },
     "execution_count": 18,
     "metadata": {},
     "output_type": "execute_result"
    }
   ],
   "source": [
    "query = \"Why ABM is the wave of the future?\"\n",
    "docs = document_search.similarity_search(query)\n",
    "chain.run(input_documents=docs, question=query)"
   ]
  },
  {
   "cell_type": "code",
   "execution_count": 19,
   "metadata": {
    "id": "1Fo7RaEjjt9u"
   },
   "outputs": [
    {
     "data": {
      "text/plain": [
       "' This document discusses how to employ an account-based strategy to gain insights and build personalized campaigns at scale. It provides tips on how to use data and design to craft campaigns tailored to the needs of different contacts within an account, as well as advice on how to use technology and data science to gain further insights. It gives an example of how Microsoft used the Strategic Executive Board to gain insights from its customers.'"
      ]
     },
     "execution_count": 19,
     "metadata": {},
     "output_type": "execute_result"
    }
   ],
   "source": [
    "query = \"Summarize the document\"\n",
    "docs = document_search.similarity_search(query)\n",
    "chain.run(input_documents=docs, question=query)"
   ]
  },
  {
   "cell_type": "code",
   "execution_count": null,
   "metadata": {},
   "outputs": [],
   "source": []
  }
 ],
 "metadata": {
  "colab": {
   "provenance": []
  },
  "kernelspec": {
   "display_name": "Python 3 (ipykernel)",
   "language": "python",
   "name": "python3"
  },
  "language_info": {
   "codemirror_mode": {
    "name": "ipython",
    "version": 3
   },
   "file_extension": ".py",
   "mimetype": "text/x-python",
   "name": "python",
   "nbconvert_exporter": "python",
   "pygments_lexer": "ipython3",
   "version": "3.11.5"
  }
 },
 "nbformat": 4,
 "nbformat_minor": 4
}
